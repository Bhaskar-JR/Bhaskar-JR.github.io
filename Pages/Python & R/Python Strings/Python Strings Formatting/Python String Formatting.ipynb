{
 "cells": [
  {
   "cell_type": "markdown",
   "id": "16afaf4a-a3ca-45ee-be37-f15fb5ce6c26",
   "metadata": {},
   "source": [
    "# Introduction"
   ]
  },
  {
   "cell_type": "markdown",
   "id": "88bfe2b1-b4de-45e6-bde5-80973002a7f7",
   "metadata": {},
   "source": [
    "In this post, we will explore string objects and the formatting syntax. The topics will be made clearer by ample use of practical examples. Useful links will be shared.  \n",
    "  \n",
    "The progression of topics will be as per the below sequence :  \n",
    "- We start with string and check all the methods and attributes.\n",
    "- We then check the **str.format()** method. \n",
    "- **str.format()** takes in arguments and keyword arguments.  \n",
    "- Format strings contain “**replacement fields**” surrounded by curly braces {}.\n",
    "Anything that is not contained in braces is considered literal text, which is copied unchanged to the output. \n",
    "- **“Format specifications”** are used within replacement fields contained within a format string to define\n",
    "how individual values are presented.  \n",
    "  \n",
    "**Usecase**   \n",
    "  \n",
    "  \n",
    "This post can be referred for string formatting in python. "
   ]
  },
  {
   "cell_type": "markdown",
   "id": "28e76984-effe-46b5-8681-f8cd24ec9e01",
   "metadata": {
    "tags": []
   },
   "source": [
    "# Python String methods  \n",
    "- Formatting : https://pyformat.info/#number"
   ]
  },
  {
   "cell_type": "code",
   "execution_count": 37,
   "id": "b38edf57-e14a-4b06-b114-b9a9140c5026",
   "metadata": {},
   "outputs": [
    {
     "name": "stdout",
     "output_type": "stream",
     "text": [
      "['__add__', '__class__', '__contains__', '__delattr__', '__dir__', '__doc__', '__eq__', '__format__', '__ge__', '__getattribute__', '__getitem__', '__getnewargs__', '__gt__', '__hash__', '__init__', '__init_subclass__', '__iter__', '__le__', '__len__', '__lt__', '__mod__', '__mul__', '__ne__', '__new__', '__reduce__', '__reduce_ex__', '__repr__', '__rmod__', '__rmul__', '__setattr__', '__sizeof__', '__str__', '__subclasshook__', 'capitalize', 'casefold', 'center', 'count', 'encode', 'endswith', 'expandtabs', 'find', 'format', 'format_map', 'index', 'isalnum', 'isalpha', 'isascii', 'isdecimal', 'isdigit', 'isidentifier', 'islower', 'isnumeric', 'isprintable', 'isspace', 'istitle', 'isupper', 'join', 'ljust', 'lower', 'lstrip', 'maketrans', 'partition', 'replace', 'rfind', 'rindex', 'rjust', 'rpartition', 'rsplit', 'rstrip', 'split', 'splitlines', 'startswith', 'strip', 'swapcase', 'title', 'translate', 'upper', 'zfill']\n"
     ]
    }
   ],
   "source": [
    "print(list(dir('abcdef')))"
   ]
  },
  {
   "cell_type": "markdown",
   "id": "d2826794-789d-468a-b4da-108e7deee6c7",
   "metadata": {
    "tags": []
   },
   "source": [
    "# Number formatting for string display  \n",
    "  \n",
    "-  Format Specification for mini language  \n",
    "<https://docs.python.org/3/library/string.html#formatspec>\n",
    "           \n",
    "- https://pyformat.info/#number\n",
    "- https://mkaz.blog/code/python-string-format-cookbook/#f-strings  \n",
    "- https://python-reference.readthedocs.io/en/latest/docs/str/formatting.html\n",
    "- https://www.w3resource.com/python-exercises/string/python-data-type-string-exercise-37.php\n",
    "- https://stackoverflow.com/questions/3228865/"
   ]
  },
  {
   "cell_type": "markdown",
   "id": "0a73d600-eb28-4710-9741-7844d5699d88",
   "metadata": {
    "tags": []
   },
   "source": [
    "## Decoding string content  \n",
    "  \n",
    "Check out the [grammar for the contents of the string](https://docs.python.org/3/reference/lexical_analysis.html#f-strings)."
   ]
  },
  {
   "cell_type": "markdown",
   "id": "b514abc2-519e-41bf-a0fc-7ffea66b9d6e",
   "metadata": {},
   "source": [
    "## Replacement field \n",
    "  \n",
    "Check out the [grammar for a replacement field](https://docs.python.org/3/library/string.html#format-string-syntax)."
   ]
  },
  {
   "cell_type": "markdown",
   "id": "1e4e05b6-29c4-41fe-ae49-fcd685da8f30",
   "metadata": {},
   "source": [
    "## Format Specification for mini language   \n",
    "The general form of a [standard format specifier](https://docs.python.org/3/library/string.html#format-specification-mini-language) is:  "
   ]
  },
  {
   "cell_type": "raw",
   "id": "27c44407-a8cc-41a7-ac1d-3cd3ff9f0ca3",
   "metadata": {},
   "source": [
    "format_spec     ::=  [[fill]align][sign][#][0][width][grouping_option][.precision][type]  \n",
    "fill            ::=  <any character>  \n",
    "align           ::=  \"<\" | \">\" | \"=\" | \"^\"  \n",
    "sign            ::=  \"+\" | \"-\" | \" \"  \n",
    "width           ::=  digit+  \n",
    "grouping_option ::=  \"_\" | \",\"  \n",
    "precision       ::=  digit+  \n",
    "type            ::=  \"b\" | \"c\" | \"d\" | \"e\" | \"E\" | \"f\" | \"F\" | \"g\" | \"G\" | \"n\" | \"o\" | \"s\" | \"x\" | \"X\" | \"%\""
   ]
  },
  {
   "cell_type": "markdown",
   "id": "b8ee40d7-72d0-463b-b7c2-60a328f1358a",
   "metadata": {},
   "source": [
    "# Examples"
   ]
  },
  {
   "cell_type": "code",
   "execution_count": 15,
   "id": "56bea84a-96c2-4b6e-bbd6-2e7a370ecddd",
   "metadata": {},
   "outputs": [
    {
     "data": {
      "text/plain": [
       "'  3.14'"
      ]
     },
     "execution_count": 15,
     "metadata": {},
     "output_type": "execute_result"
    }
   ],
   "source": [
    "'{: 6.2f}'.format(3.141592653589793)"
   ]
  },
  {
   "cell_type": "code",
   "execution_count": 16,
   "id": "2bbad5d5-0421-4545-a2fd-821eff235d00",
   "metadata": {},
   "outputs": [
    {
     "data": {
      "text/plain": [
       "'003.14'"
      ]
     },
     "execution_count": 16,
     "metadata": {},
     "output_type": "execute_result"
    }
   ],
   "source": [
    "'{:06.2f}'.format(3.141592653589793)"
   ]
  },
  {
   "cell_type": "code",
   "execution_count": 17,
   "id": "7e5b4c92-cde4-4fc8-853d-255871df6f49",
   "metadata": {},
   "outputs": [
    {
     "data": {
      "text/plain": [
       "'003.14%'"
      ]
     },
     "execution_count": 17,
     "metadata": {},
     "output_type": "execute_result"
    }
   ],
   "source": [
    "'{:06.2f}%'.format(3.141592653589793)"
   ]
  },
  {
   "cell_type": "code",
   "execution_count": 30,
   "id": "f306b332-1135-4ede-8d80-113efae41f89",
   "metadata": {
    "tags": []
   },
   "outputs": [
    {
     "name": "stdout",
     "output_type": "stream",
     "text": [
      "|314   |\n",
      "|   314|\n",
      "| 314  |\n"
     ]
    }
   ],
   "source": [
    "# https://python-reference.readthedocs.io/en/latest/docs/str/formatting.html\n",
    "# https://www.w3resource.com/python-exercises/string/python-data-type-string-exercise-37.php\n",
    "\n",
    "print('|{:<6.0f}|'.format(314.0))\n",
    "print('|{: 6.0f}|'.format(314.0))\n",
    "print('|{:^6.0f}|'.format(314.0))"
   ]
  },
  {
   "cell_type": "code",
   "execution_count": 19,
   "id": "04f14e09-5698-40be-b996-7fa39c5204b5",
   "metadata": {},
   "outputs": [
    {
     "name": "stdout",
     "output_type": "stream",
     "text": [
      "|314.2 |\n",
      "| 314.2|\n",
      "|314.2 |\n"
     ]
    }
   ],
   "source": [
    "print('|{:<6.1f}|'.format(314.23))\n",
    "print('|{: 6.1f}|'.format(314.23))\n",
    "print('|{:^6.1f}|'.format(314.23))"
   ]
  },
  {
   "cell_type": "code",
   "execution_count": 36,
   "id": "0e94e04a-4086-482d-ad93-f3e49df7eeff",
   "metadata": {},
   "outputs": [
    {
     "name": "stdout",
     "output_type": "stream",
     "text": [
      "|314.2 |\n",
      "|0314.2|\n",
      "|0314.2|\n",
      "|314.2 |\n"
     ]
    }
   ],
   "source": [
    "print('|{:<6.1f}|'.format(314.23))\n",
    "print('|{:>06.1f}|'.format(314.23))\n",
    "print('|{:06.1f}|'.format(314.23))\n",
    "print('|{:^6.1f}|'.format(314.23))"
   ]
  },
  {
   "cell_type": "markdown",
   "id": "1cc964b3-e13f-4b31-8877-a59edc06bbcc",
   "metadata": {},
   "source": [
    "##  Using variable as Padding width input"
   ]
  },
  {
   "cell_type": "code",
   "execution_count": 20,
   "id": "bc6deacc-996d-4e3f-ae1a-72524f7c6ad9",
   "metadata": {},
   "outputs": [
    {
     "name": "stdout",
     "output_type": "stream",
     "text": [
      "              Python :            Very Good\n"
     ]
    }
   ],
   "source": [
    "width = 20\n",
    "py, vg = \"Python\", \"Very Good\"\n",
    "print(f\"{py:>{width}s} : {vg:>{width}s}\")"
   ]
  },
  {
   "cell_type": "code",
   "execution_count": 21,
   "id": "3fd445ac-ce9d-482e-9928-7310b3dfeee1",
   "metadata": {},
   "outputs": [
    {
     "data": {
      "text/plain": [
       "'000123'"
      ]
     },
     "execution_count": 21,
     "metadata": {},
     "output_type": "execute_result"
    }
   ],
   "source": [
    "# https://stackoverflow.com/questions/3228865/how-do-i-format-a-number-with-a-variable-number-of-digits-in-python\n",
    "'{num:0{width}}'.format(num=123, width=6)"
   ]
  },
  {
   "cell_type": "code",
   "execution_count": 22,
   "id": "c7d4a0eb-8949-4bce-96b4-9eb4824786e7",
   "metadata": {},
   "outputs": [
    {
     "data": {
      "text/plain": [
       "'000123'"
      ]
     },
     "execution_count": 22,
     "metadata": {},
     "output_type": "execute_result"
    }
   ],
   "source": [
    "# https://stackoverflow.com/questions/3228865/how-do-i-format-a-number-with-a-variable-number-of-digits-in-python\n",
    "# Use of f literals\n",
    "num=123\n",
    "fill='0'\n",
    "width=6\n",
    "f'{num:{fill}{width}}'"
   ]
  },
  {
   "cell_type": "markdown",
   "id": "cb1a1bbe-653e-46cb-b20f-dc0920e09954",
   "metadata": {},
   "source": [
    "## Example of left and right alignment"
   ]
  },
  {
   "cell_type": "code",
   "execution_count": 23,
   "id": "da215b5a-bd0a-4ba2-9c63-1cc8f6708b23",
   "metadata": {},
   "outputs": [],
   "source": [
    "health_data = {'George': {'McDonalds': {'Food': 'burger', 'Healthy':False},\n",
    "                          'KFC':       {'Food': 'chicken', 'Healthy':False}},\n",
    "               'John':   {'Wendys':    {'Food': 'burger', 'Healthy':False},\n",
    "                          'McDonalds': {'Food': 'salad', 'Healthy': True}}}"
   ]
  },
  {
   "cell_type": "code",
   "execution_count": 24,
   "id": "9fed5118-d27d-4e02-8258-1a0c8071b314",
   "metadata": {},
   "outputs": [
    {
     "name": "stdout",
     "output_type": "stream",
     "text": [
      "George     :  McDonalds -       Food -     burger\n",
      "George     :  McDonalds -    Healthy -          0\n",
      "George     :        KFC -       Food -    chicken\n",
      "George     :        KFC -    Healthy -          0\n",
      "John       :     Wendys -       Food -     burger\n",
      "John       :     Wendys -    Healthy -          0\n",
      "John       :  McDonalds -       Food -      salad\n",
      "John       :  McDonalds -    Healthy -          1\n"
     ]
    }
   ],
   "source": [
    "for i in health_data.keys():\n",
    "    for j in health_data[i].keys():\n",
    "        for k in health_data[i][j].keys():\n",
    "            print(\"{:<10} : {:>10} - {:>10} - {:>10}\".format(i, j,k, health_data[i][j][k]))"
   ]
  },
  {
   "cell_type": "markdown",
   "id": "ac42b49e-e640-477d-a126-ad23f3d9e276",
   "metadata": {},
   "source": [
    "# Coloured Text output\n",
    "https://www.delftstack.com/howto/python/python-bold-text/"
   ]
  },
  {
   "cell_type": "code",
   "execution_count": 26,
   "id": "9b6fa5ba-10be-4a2e-bb58-2087c1386cdd",
   "metadata": {},
   "outputs": [
    {
     "name": "stdout",
     "output_type": "stream",
     "text": [
      "The output is:\u001b[1mPython Programming !\u001b[0mCheck\n",
      "The output is:\u001b[95mPython Programming !\u001b[0mCheck\n",
      "The output is:\u001b[91mPython Programming !\u001b[0mCheck\n",
      "The output is:\u001b[96mPython Programming !\u001b[0mCheck\n",
      "The output is:\u001b[92mPython Programming !\u001b[0mCheck\n",
      "The output is:\u001b[92m\u001b[4mPython Programming !\u001b[0mCheck\n"
     ]
    }
   ],
   "source": [
    "class bold_color:\n",
    "   PURPLE = '\\033[95m'\n",
    "   CYAN = '\\033[96m'\n",
    "   DARKCYAN = '\\033[36m'\n",
    "   BLUE = '\\033[94m'\n",
    "   GREEN = '\\033[92m'\n",
    "   YELLOW = '\\033[93m'\n",
    "   RED = '\\033[91m'\n",
    "   BOLD = '\\033[1m'\n",
    "   UNDERLINE = '\\033[4m'\n",
    "   END = '\\033[0m'\n",
    "\n",
    "print(\"The output is:\" + bold_color.BOLD + 'Python Programming !' + bold_color.END+\"Check\")\n",
    "print(\"The output is:\" + bold_color.PURPLE + 'Python Programming !' + bold_color.END+\"Check\")\n",
    "print(\"The output is:\" + bold_color.RED + 'Python Programming !' + bold_color.END+\"Check\")\n",
    "print(\"The output is:\" + bold_color.CYAN + 'Python Programming !' + bold_color.END+\"Check\")\n",
    "print(\"The output is:\" + bold_color.GREEN + 'Python Programming !' + bold_color.END+\"Check\")\n",
    "print(\"The output is:\" + bold_color.GREEN + bold_color.UNDERLINE + 'Python Programming !' + bold_color.END+\"Check\")\n"
   ]
  }
 ],
 "metadata": {
  "kernelspec": {
   "display_name": "Python 3 (ipykernel)",
   "language": "python",
   "name": "python3"
  },
  "language_info": {
   "codemirror_mode": {
    "name": "ipython",
    "version": 3
   },
   "file_extension": ".py",
   "mimetype": "text/x-python",
   "name": "python",
   "nbconvert_exporter": "python",
   "pygments_lexer": "ipython3",
   "version": "3.8.3"
  }
 },
 "nbformat": 4,
 "nbformat_minor": 5
}
